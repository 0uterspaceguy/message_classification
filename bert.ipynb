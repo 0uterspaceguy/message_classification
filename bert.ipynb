{
 "cells": [
  {
   "cell_type": "markdown",
   "id": "2b5669ca",
   "metadata": {},
   "source": [
    "# Тренировка и конвертация нейронной сети bert-tiny для решения задачи классификации текстовых запросов.\n"
   ]
  },
  {
   "cell_type": "markdown",
   "id": "0990cbaf",
   "metadata": {},
   "source": [
    "## Импорт необходимых модулей"
   ]
  },
  {
   "cell_type": "code",
   "execution_count": 1,
   "id": "f38b8827",
   "metadata": {},
   "outputs": [
    {
     "name": "stderr",
     "output_type": "stream",
     "text": [
      "/opt/conda/lib/python3.8/site-packages/tqdm/auto.py:22: TqdmWarning: IProgress not found. Please update jupyter and ipywidgets. See https://ipywidgets.readthedocs.io/en/stable/user_install.html\n",
      "  from .autonotebook import tqdm as notebook_tqdm\n"
     ]
    }
   ],
   "source": [
    "import os\n",
    "import re\n",
    "import torch\n",
    "from torch import nn\n",
    "from torch.optim import Adam\n",
    "from torch.optim.lr_scheduler import ReduceLROnPlateau\n",
    "\n",
    "from torch.utils.data import DataLoader\n",
    "from tqdm import tqdm\n",
    "import wandb\n",
    "\n",
    "import transformers\n",
    "from transformers import AutoTokenizer, AutoModel, AutoModelForSequenceClassification\n",
    "from transformers.onnx import FeaturesManager\n",
    "\n",
    "import pandas as pd\n",
    "from sklearn.model_selection import train_test_split\n",
    "from sklearn.metrics import accuracy_score, balanced_accuracy_score, f1_score\n"
   ]
  },
  {
   "cell_type": "markdown",
   "id": "9074f065",
   "metadata": {},
   "source": [
    "## Описание необходимых классов и функций"
   ]
  },
  {
   "cell_type": "code",
   "execution_count": 2,
   "id": "119ddc26",
   "metadata": {},
   "outputs": [],
   "source": [
    "class BertDataset():\n",
    "    def __init__(self, texts, labels, \\\n",
    "                 tokenizer_path=\"cointegrated/rubert-tiny2\",\\\n",
    "                 alphabet = \"абвгдежзийклмнопрстуфхцчшщъыьэюя \"):\n",
    "        \n",
    "        self.alphabet = alphabet\n",
    "        self.tokenizer = AutoTokenizer.from_pretrained(tokenizer_path,)\n",
    "        self.texts = texts\n",
    "        self.labels = labels\n",
    "    \n",
    "    def __getitem__(self, idx: int):\n",
    "        text = self.texts[idx]\n",
    "        label = self.labels[idx]\n",
    "        \n",
    "        text = self.preprocess(text)\n",
    "        input_ids, token_type_ids, attention_mask = self.tokenize(text)\n",
    "        \n",
    "        return input_ids, token_type_ids, attention_mask, label\n",
    "    \n",
    "    def __len__(self,):\n",
    "        return len(self.texts)\n",
    "        \n",
    "    def preprocess(self, text: str):\n",
    "        \"\"\"\n",
    "            Метод подготавливает текст \n",
    "            перед использованием в процессе обучения.\n",
    "            \n",
    "            Args:\n",
    "                text (str): текст запроса\n",
    "            \n",
    "            Returns:\n",
    "                new_text (str): подготовленный текст\n",
    "        \"\"\"\n",
    "        text = self.lowercase(text)\n",
    "        text = self.remove_html(text)\n",
    "        text = text.replace('ё', 'е')\n",
    "        text = self.filter_symbols(text) \n",
    "        return text\n",
    "    \n",
    "    def tokenize(self, text: str):\n",
    "        \"\"\"\n",
    "            Метод разбивает текст на токены, и возвращает три тензора.\n",
    "            \n",
    "            Args:\n",
    "                text (str): текст запроса\n",
    "            \n",
    "            Returns:\n",
    "                input_ids (torch.Tensor): id токенов для переданного в функцию текста\n",
    "                token_type_ids (torch.Tensor): индексы, обозначающие тип этих токенов\n",
    "                attention_mask (torch.Tensor): бинарная маска, указывающая на окончание последовательности\n",
    "                \n",
    "        \"\"\"\n",
    "        t = self.tokenizer(text, padding='max_length', truncation=True, return_tensors='pt')\n",
    "        input_ids = t['input_ids']\n",
    "        token_type_ids = t['token_type_ids']\n",
    "        attention_mask = t['attention_mask']\n",
    "        return input_ids.squeeze(), token_type_ids.squeeze(), attention_mask.squeeze()\n",
    "    \n",
    "    def remove_html(self, text: str):\n",
    "        \"\"\"\n",
    "            Метод ищет все подстроки типа \"</p>\" (html разметка)\n",
    "            и удаляет из текста.\n",
    "            \n",
    "            Args:\n",
    "                text (str): текст запроса\n",
    "            \n",
    "            Returns:\n",
    "                text (str): искомый текст\n",
    "        \"\"\"\n",
    "        html_code_pattern = \"<\\S{1,}>\"\n",
    "        substrings = re.findall(html_code_pattern, text)\n",
    "        for substring in substrings:\n",
    "            text = text.replace(substring, '')\n",
    "        return text\n",
    "    \n",
    "    def filter_symbols(self, text: str):\n",
    "        \"\"\"\n",
    "            Метод убирает из текста все символы, \n",
    "            которые не входят в словарь (self.alphabet).\n",
    "            \n",
    "            Args:\n",
    "                text (str): текст запроса\n",
    "            \n",
    "            Returns:\n",
    "                new_text (str): отфильтрованный текст\n",
    "        \"\"\"\n",
    "        new_text = \"\"\n",
    "        for char in text:\n",
    "            if char in self.alphabet:\n",
    "                new_text += char\n",
    "        return new_text\n",
    "    \n",
    "    def lowercase(self, text: str):\n",
    "        return text.lower()        "
   ]
  },
  {
   "cell_type": "code",
   "execution_count": 3,
   "id": "3e1cdf9e",
   "metadata": {},
   "outputs": [],
   "source": [
    "class BertClassifier(nn.Module):\n",
    "    \"\"\"\n",
    "        Класс, описывающий нашу модель.\n",
    "        Нейронная сеть представляет из себя \n",
    "        transformer-encoder + линейный классификатор.\n",
    "    \"\"\"\n",
    "    def __init__(self, \\\n",
    "                 num_classes=1, \\\n",
    "                 dropout=0.5, \\\n",
    "                 embedding_size=312, \\\n",
    "                 model_path=\"cointegrated/rubert-tiny2\"):\n",
    "\n",
    "        super(BertClassifier, self).__init__()\n",
    "\n",
    "        self.bert = AutoModelForSequenceClassification.from_pretrained(model_path, num_labels=num_classes)\n",
    "#         self.bert = AutoModel.from_pretrained(model_path, num_labels=num_classes)\n",
    "        self.dropout = nn.Dropout(dropout)\n",
    "        self.linear = nn.Linear(embedding_size, num_classes)\n",
    "        self.relu = nn.ReLU()\n",
    "        self.softmax = nn.Softmax()\n",
    "\n",
    "    def forward(self, input_ids, token_type_ids, attention_mask):\n",
    "#         _, pooled_output = self.bert(input_ids=input_ids, attention_mask=attention_mask,return_dict=False)\n",
    "        output = self.bert(input_ids=input_ids, attention_mask=attention_mask,return_dict=False)[0]\n",
    "        \n",
    "#         dropout_output = self.dropout(pooled_output)\n",
    "#         linear_output = self.linear(dropout_output)\n",
    "#         final_layer = self.relu(linear_output)\n",
    "\n",
    "        return output"
   ]
  },
  {
   "cell_type": "code",
   "execution_count": 4,
   "id": "80ff14aa",
   "metadata": {},
   "outputs": [],
   "source": [
    "def adjust_optim(step, optimizer, scheduler, loss, warmup_steps, start_lr):\n",
    "    warmup_shift = start_lr / warmup_steps\n",
    "    if (step <= warmup_steps): #(optimizer.param_groups[0]['lr'] < start_lr)\n",
    "        optimizer.param_groups[0]['lr'] += warmup_shift\n",
    "    else:  \n",
    "        scheduler.step(loss)\n",
    "\n",
    "def train(model, train_dataloader, criterion, optimizer, scheduler, warmup_steps, lr, epoch):\n",
    "    \"\"\"\n",
    "            Функция обучения нейронной сети.\n",
    "            \n",
    "            Args:\n",
    "                model (torch.nn.Module): объект модели\n",
    "                train_dataloader (torch.utils.data.dataloader.DataLoader): тренировочный загрузчик данных\n",
    "                criterion (torch.nn.modules.loss.CrossEntropyLoss): функция ошибки\n",
    "                optimizer (torch.optim.adam.Adam): оптимизатор\n",
    "                \n",
    "            Returns:\n",
    "                total_loss_train (float): среднее значение функции ошибки за эпоху\n",
    "    \"\"\"\n",
    "    total_loss_train = 0\n",
    "\n",
    "    for i, batch in enumerate(tqdm(train_dataloader)):\n",
    "        input_ids, token_type_ids, attention_mask, labels = (t.cuda() for t in batch)\n",
    "\n",
    "        output = model(input_ids, token_type_ids, attention_mask)\n",
    "\n",
    "        batch_loss = criterion(output, labels.long())\n",
    "        total_loss_train += batch_loss.item()\n",
    "        \n",
    "        wandb.log({\"loss\":batch_loss.item(),\n",
    "                  \"lr\":optimizer.param_groups[0]['lr']})        \n",
    "        \n",
    "        model.zero_grad()\n",
    "        batch_loss.backward()\n",
    "        optimizer.step()\n",
    "        if not epoch:\n",
    "            adjust_optim(i, optimizer, scheduler, batch_loss.item(), warmup_steps, lr)\n",
    "\n",
    "    total_loss_train = total_loss_train / len(train_dataloader)\n",
    "    return total_loss_train\n",
    "                \n",
    "def test(model, test_dataloader, criterion):\n",
    "    \"\"\"\n",
    "            Функция тестирования нейронной сети.\n",
    "            \n",
    "            Args:\n",
    "                model (torch.nn.Module): объект модели\n",
    "                test_dataloader (torch.utils.data.dataloader.DataLoader): тестовый загрузчик данных\n",
    "                criterion (torch.nn.modules.loss.CrossEntropyLoss): функция ошибки\n",
    "                \n",
    "            Returns:\n",
    "                metrics (dict): словарь с метриками\n",
    "    \"\"\"\n",
    "    total_loss_test = 0\n",
    "    preds = []\n",
    "    gtrue = []\n",
    "    \n",
    "    with torch.no_grad():\n",
    "        for batch in tqdm(test_dataloader):\n",
    "            input_ids, token_type_ids, attention_mask, labels = (t.cuda() for t in batch)\n",
    "\n",
    "            output = model(input_ids, token_type_ids, attention_mask)\n",
    "    \n",
    "            preds.extend(output.argmax(-1).tolist())\n",
    "            gtrue.extend(labels.tolist())\n",
    "            batch_loss = criterion(output, labels.long())\n",
    "            total_loss_test += batch_loss.item()\n",
    "            \n",
    "    total_loss_test = total_loss_test / len(test_dataloader)\n",
    "    \n",
    "    accuracy = accuracy_score(gtrue, preds)\n",
    "    balanced_accuracy = balanced_accuracy_score(gtrue, preds)\n",
    "    f1 = f1_score(gtrue, preds, average='weighted')\n",
    "    \n",
    "    metrics = {\"Accuracy\": accuracy, \\\n",
    "              \"Balanced_accuracy\": balanced_accuracy,\\\n",
    "              \"F1-score\": f1,\\\n",
    "              \"Test loss\": total_loss_test,}\n",
    "    \n",
    "    return metrics\n",
    "                  "
   ]
  },
  {
   "cell_type": "markdown",
   "id": "30e76d49",
   "metadata": {},
   "source": [
    "## Подготовка данных"
   ]
  },
  {
   "cell_type": "code",
   "execution_count": 5,
   "id": "889a8944",
   "metadata": {},
   "outputs": [],
   "source": [
    "data_path = 'data.xlsx'\n",
    "#Читаем табличку и удаляем записи с пропущенными значениями\n",
    "df = pd.read_excel(data_path).dropna() "
   ]
  },
  {
   "cell_type": "code",
   "execution_count": 6,
   "id": "d919c0f4",
   "metadata": {},
   "outputs": [],
   "source": [
    "class_counts = df['name'].value_counts() \n",
    "#Считаем встречаемость классов в датасете\n",
    "name2count = {name:count for name,count in zip(class_counts.index, class_counts.values)}"
   ]
  },
  {
   "cell_type": "code",
   "execution_count": 7,
   "id": "931995da",
   "metadata": {},
   "outputs": [],
   "source": [
    "#Добавляем в табличку столбец вхождений класса\n",
    "df['class_count'] = df['name'].apply(lambda x: name2count[x]) "
   ]
  },
  {
   "cell_type": "code",
   "execution_count": 8,
   "id": "c0d79152",
   "metadata": {},
   "outputs": [],
   "source": [
    "#Оставляем записи только тех классов, встречаемость которых выше единицы\n",
    "data = df[df['class_count'] > 1][['description', 'name']]\n",
    "name2class_id = {name:idx for idx, name in enumerate(data['name'].unique())}\n",
    "#Добавляем в табличку столбец с индексами классов\n",
    "data['class_id'] = data['name'].apply(lambda x: name2class_id[x])\n",
    "data.drop(['name'], axis=1, inplace=True)"
   ]
  },
  {
   "cell_type": "code",
   "execution_count": 9,
   "id": "640f0abb",
   "metadata": {},
   "outputs": [],
   "source": [
    "X = data['description'].values\n",
    "y = data['class_id'].values\n",
    "#Делим датасет на тренировочную и тестовую выборки, учитывая распределение классов\n",
    "X_train, X_test, y_train, y_test = train_test_split(X, y, test_size=0.3, random_state=42, stratify=y)"
   ]
  },
  {
   "cell_type": "markdown",
   "id": "148b4e96",
   "metadata": {},
   "source": [
    "## Обучение нейросети"
   ]
  },
  {
   "cell_type": "code",
   "execution_count": 10,
   "id": "ad7c060c",
   "metadata": {},
   "outputs": [],
   "source": [
    "batch_size = 4                              #Размер батча\n",
    "learning_rate = 0.00005                     #Начальный шаг обучения\n",
    "epochs = 20                                 #Итерации обучения\n",
    "factor = 0.99                               #Коэффициент уменьшения шага обучения\n",
    "patience = 2000                             #Количество шагов перед уменьшением шага обучения\n",
    "min_lr = 0.0000005                          #Минимальный шаг обучения\n",
    "warmup_steps = 1500                         #Количество warmup шагов\n",
    "n_classes = len(data['class_id'].unique())  #Количество классов в датасете\n",
    "wandb_project = \"infolabs\"                  #Проект в wandb для визуализации метрик\n",
    "wandb_user = \"outerspaceguy\"                #Username wandb"
   ]
  },
  {
   "cell_type": "code",
   "execution_count": 11,
   "id": "bc481c17",
   "metadata": {},
   "outputs": [],
   "source": [
    "#Создаем объекты тренировочного и тестового датасетов\n",
    "train_dataset = BertDataset(X_train, y_train)\n",
    "test_dataset = BertDataset(X_test, y_test)\n",
    "\n",
    "#Оборачиваем в dataloader-ы\n",
    "train_dataloader = DataLoader(train_dataset, batch_size=batch_size, shuffle=True)\n",
    "test_dataloader = DataLoader(test_dataset, batch_size=batch_size)"
   ]
  },
  {
   "cell_type": "code",
   "execution_count": 12,
   "id": "ddcdbe20",
   "metadata": {},
   "outputs": [
    {
     "name": "stderr",
     "output_type": "stream",
     "text": [
      "/opt/conda/lib/python3.8/site-packages/torch/nn/modules/module.py:1402: UserWarning: positional arguments and argument \"destination\" are deprecated. nn.Module.state_dict will not accept them in the future. Refer to https://pytorch.org/docs/master/generated/torch.nn.Module.html#torch.nn.Module.state_dict for details.\n",
      "  warnings.warn(\n",
      "Some weights of the model checkpoint at cointegrated/rubert-tiny2 were not used when initializing BertForSequenceClassification: ['cls.predictions.transform.dense.weight', 'cls.predictions.transform.LayerNorm.weight', 'cls.seq_relationship.weight', 'cls.seq_relationship.bias', 'cls.predictions.bias', 'cls.predictions.decoder.bias', 'cls.predictions.transform.dense.bias', 'cls.predictions.decoder.weight', 'cls.predictions.transform.LayerNorm.bias']\n",
      "- This IS expected if you are initializing BertForSequenceClassification from the checkpoint of a model trained on another task or with another architecture (e.g. initializing a BertForSequenceClassification model from a BertForPreTraining model).\n",
      "- This IS NOT expected if you are initializing BertForSequenceClassification from the checkpoint of a model that you expect to be exactly identical (initializing a BertForSequenceClassification model from a BertForSequenceClassification model).\n",
      "Some weights of BertForSequenceClassification were not initialized from the model checkpoint at cointegrated/rubert-tiny2 and are newly initialized: ['classifier.weight', 'classifier.bias']\n",
      "You should probably TRAIN this model on a down-stream task to be able to use it for predictions and inference.\n"
     ]
    }
   ],
   "source": [
    "model = BertClassifier(n_classes).cuda()\n",
    "criterion = nn.CrossEntropyLoss().cuda()\n",
    "optimizer = Adam(model.parameters(), lr=0)\n",
    "scheduler = ReduceLROnPlateau(optimizer, 'min', factor=factor, \\\n",
    "         patience=patience, verbose=True, min_lr=min_lr)"
   ]
  },
  {
   "cell_type": "code",
   "execution_count": 13,
   "id": "dece346d",
   "metadata": {},
   "outputs": [
    {
     "name": "stderr",
     "output_type": "stream",
     "text": [
      "\u001b[34m\u001b[1mwandb\u001b[0m: Currently logged in as: \u001b[33mouterspaceguy\u001b[0m. Use \u001b[1m`wandb login --relogin`\u001b[0m to force relogin\n"
     ]
    },
    {
     "data": {
      "text/html": [
       "Tracking run with wandb version 0.13.9"
      ],
      "text/plain": [
       "<IPython.core.display.HTML object>"
      ]
     },
     "metadata": {},
     "output_type": "display_data"
    },
    {
     "data": {
      "text/html": [
       "Run data is saved locally in <code>/workspace/wandb/run-20230116_214010-rnpp41ck</code>"
      ],
      "text/plain": [
       "<IPython.core.display.HTML object>"
      ]
     },
     "metadata": {},
     "output_type": "display_data"
    },
    {
     "data": {
      "text/html": [
       "Syncing run <strong><a href=\"https://wandb.ai/outerspaceguy/infolabs/runs/rnpp41ck\" target=\"_blank\">infolabs</a></strong> to <a href=\"https://wandb.ai/outerspaceguy/infolabs\" target=\"_blank\">Weights & Biases</a> (<a href=\"https://wandb.me/run\" target=\"_blank\">docs</a>)<br/>"
      ],
      "text/plain": [
       "<IPython.core.display.HTML object>"
      ]
     },
     "metadata": {},
     "output_type": "display_data"
    },
    {
     "data": {
      "text/html": [
       " View project at <a href=\"https://wandb.ai/outerspaceguy/infolabs\" target=\"_blank\">https://wandb.ai/outerspaceguy/infolabs</a>"
      ],
      "text/plain": [
       "<IPython.core.display.HTML object>"
      ]
     },
     "metadata": {},
     "output_type": "display_data"
    },
    {
     "data": {
      "text/html": [
       " View run at <a href=\"https://wandb.ai/outerspaceguy/infolabs/runs/rnpp41ck\" target=\"_blank\">https://wandb.ai/outerspaceguy/infolabs/runs/rnpp41ck</a>"
      ],
      "text/plain": [
       "<IPython.core.display.HTML object>"
      ]
     },
     "metadata": {},
     "output_type": "display_data"
    },
    {
     "data": {
      "text/html": [
       "<button onClick=\"this.nextSibling.style.display='block';this.style.display='none';\">Display W&B run</button><iframe src=\"https://wandb.ai/outerspaceguy/infolabs/runs/rnpp41ck?jupyter=true\" style=\"border:none;width:100%;height:420px;display:none;\"></iframe>"
      ],
      "text/plain": [
       "<wandb.sdk.wandb_run.Run at 0x7f4e0aa02940>"
      ]
     },
     "execution_count": 13,
     "metadata": {},
     "output_type": "execute_result"
    }
   ],
   "source": [
    "wandb.init(project=wandb_project, entity=wandb_user, name=wandb_project, settings=wandb.Settings(code_dir=\".\"))"
   ]
  },
  {
   "cell_type": "code",
   "execution_count": 14,
   "id": "43b2389a",
   "metadata": {
    "scrolled": true
   },
   "outputs": [
    {
     "name": "stderr",
     "output_type": "stream",
     "text": [
      "100%|██████████████████████████████████████████████████████████████████████████████████████████████████| 1651/1651 [03:26<00:00,  8.00it/s]\n",
      "100%|████████████████████████████████████████████████████████████████████████████████████████████████████| 708/708 [00:31<00:00, 22.26it/s]\n",
      "100%|██████████████████████████████████████████████████████████████████████████████████████████████████| 1651/1651 [03:20<00:00,  8.25it/s]\n",
      "100%|████████████████████████████████████████████████████████████████████████████████████████████████████| 708/708 [00:31<00:00, 22.25it/s]\n",
      "100%|██████████████████████████████████████████████████████████████████████████████████████████████████| 1651/1651 [03:18<00:00,  8.31it/s]\n",
      "100%|████████████████████████████████████████████████████████████████████████████████████████████████████| 708/708 [00:32<00:00, 21.49it/s]\n",
      "100%|██████████████████████████████████████████████████████████████████████████████████████████████████| 1651/1651 [03:21<00:00,  8.18it/s]\n",
      "100%|████████████████████████████████████████████████████████████████████████████████████████████████████| 708/708 [00:32<00:00, 21.73it/s]\n",
      " 78%|████████████████████████████████████████████████████████████████████████████▍                     | 1288/1651 [02:37<00:44,  8.20it/s]\n"
     ]
    },
    {
     "ename": "KeyboardInterrupt",
     "evalue": "",
     "output_type": "error",
     "traceback": [
      "\u001b[0;31m---------------------------------------------------------------------------\u001b[0m",
      "\u001b[0;31mKeyboardInterrupt\u001b[0m                         Traceback (most recent call last)",
      "Input \u001b[0;32mIn [14]\u001b[0m, in \u001b[0;36m<cell line: 1>\u001b[0;34m()\u001b[0m\n\u001b[1;32m      1\u001b[0m \u001b[38;5;28;01mfor\u001b[39;00m epoch \u001b[38;5;129;01min\u001b[39;00m \u001b[38;5;28mrange\u001b[39m(epochs):\n\u001b[0;32m----> 2\u001b[0m     train_loss \u001b[38;5;241m=\u001b[39m \u001b[43mtrain\u001b[49m\u001b[43m(\u001b[49m\u001b[43mmodel\u001b[49m\u001b[43m,\u001b[49m\u001b[43m \u001b[49m\u001b[43mtrain_dataloader\u001b[49m\u001b[43m,\u001b[49m\u001b[43m \u001b[49m\u001b[43mcriterion\u001b[49m\u001b[43m,\u001b[49m\u001b[43m \u001b[49m\u001b[43moptimizer\u001b[49m\u001b[43m,\u001b[49m\u001b[43m \u001b[49m\u001b[43mscheduler\u001b[49m\u001b[43m,\u001b[49m\u001b[43m \u001b[49m\u001b[43mwarmup_steps\u001b[49m\u001b[43m,\u001b[49m\u001b[43m \u001b[49m\u001b[43mlearning_rate\u001b[49m\u001b[43m,\u001b[49m\u001b[43m \u001b[49m\u001b[43mepoch\u001b[49m\u001b[43m)\u001b[49m\n\u001b[1;32m      3\u001b[0m     metrics \u001b[38;5;241m=\u001b[39m test(model, test_dataloader, criterion)\n\u001b[1;32m      4\u001b[0m     wandb\u001b[38;5;241m.\u001b[39mlog(metrics)\n",
      "Input \u001b[0;32mIn [4]\u001b[0m, in \u001b[0;36mtrain\u001b[0;34m(model, train_dataloader, criterion, optimizer, scheduler, warmup_steps, lr, epoch)\u001b[0m\n\u001b[1;32m     31\u001b[0m wandb\u001b[38;5;241m.\u001b[39mlog({\u001b[38;5;124m\"\u001b[39m\u001b[38;5;124mloss\u001b[39m\u001b[38;5;124m\"\u001b[39m:batch_loss\u001b[38;5;241m.\u001b[39mitem(),\n\u001b[1;32m     32\u001b[0m           \u001b[38;5;124m\"\u001b[39m\u001b[38;5;124mlr\u001b[39m\u001b[38;5;124m\"\u001b[39m:optimizer\u001b[38;5;241m.\u001b[39mparam_groups[\u001b[38;5;241m0\u001b[39m][\u001b[38;5;124m'\u001b[39m\u001b[38;5;124mlr\u001b[39m\u001b[38;5;124m'\u001b[39m]})        \n\u001b[1;32m     34\u001b[0m model\u001b[38;5;241m.\u001b[39mzero_grad()\n\u001b[0;32m---> 35\u001b[0m \u001b[43mbatch_loss\u001b[49m\u001b[38;5;241;43m.\u001b[39;49m\u001b[43mbackward\u001b[49m\u001b[43m(\u001b[49m\u001b[43m)\u001b[49m\n\u001b[1;32m     36\u001b[0m optimizer\u001b[38;5;241m.\u001b[39mstep()\n\u001b[1;32m     37\u001b[0m \u001b[38;5;28;01mif\u001b[39;00m \u001b[38;5;129;01mnot\u001b[39;00m epoch:\n",
      "File \u001b[0;32m/opt/conda/lib/python3.8/site-packages/torch/_tensor.py:396\u001b[0m, in \u001b[0;36mTensor.backward\u001b[0;34m(self, gradient, retain_graph, create_graph, inputs)\u001b[0m\n\u001b[1;32m    387\u001b[0m \u001b[38;5;28;01mif\u001b[39;00m has_torch_function_unary(\u001b[38;5;28mself\u001b[39m):\n\u001b[1;32m    388\u001b[0m     \u001b[38;5;28;01mreturn\u001b[39;00m handle_torch_function(\n\u001b[1;32m    389\u001b[0m         Tensor\u001b[38;5;241m.\u001b[39mbackward,\n\u001b[1;32m    390\u001b[0m         (\u001b[38;5;28mself\u001b[39m,),\n\u001b[0;32m   (...)\u001b[0m\n\u001b[1;32m    394\u001b[0m         create_graph\u001b[38;5;241m=\u001b[39mcreate_graph,\n\u001b[1;32m    395\u001b[0m         inputs\u001b[38;5;241m=\u001b[39minputs)\n\u001b[0;32m--> 396\u001b[0m \u001b[43mtorch\u001b[49m\u001b[38;5;241;43m.\u001b[39;49m\u001b[43mautograd\u001b[49m\u001b[38;5;241;43m.\u001b[39;49m\u001b[43mbackward\u001b[49m\u001b[43m(\u001b[49m\u001b[38;5;28;43mself\u001b[39;49m\u001b[43m,\u001b[49m\u001b[43m \u001b[49m\u001b[43mgradient\u001b[49m\u001b[43m,\u001b[49m\u001b[43m \u001b[49m\u001b[43mretain_graph\u001b[49m\u001b[43m,\u001b[49m\u001b[43m \u001b[49m\u001b[43mcreate_graph\u001b[49m\u001b[43m,\u001b[49m\u001b[43m \u001b[49m\u001b[43minputs\u001b[49m\u001b[38;5;241;43m=\u001b[39;49m\u001b[43minputs\u001b[49m\u001b[43m)\u001b[49m\n",
      "File \u001b[0;32m/opt/conda/lib/python3.8/site-packages/torch/autograd/__init__.py:173\u001b[0m, in \u001b[0;36mbackward\u001b[0;34m(tensors, grad_tensors, retain_graph, create_graph, grad_variables, inputs)\u001b[0m\n\u001b[1;32m    168\u001b[0m     retain_graph \u001b[38;5;241m=\u001b[39m create_graph\n\u001b[1;32m    170\u001b[0m \u001b[38;5;66;03m# The reason we repeat same the comment below is that\u001b[39;00m\n\u001b[1;32m    171\u001b[0m \u001b[38;5;66;03m# some Python versions print out the first line of a multi-line function\u001b[39;00m\n\u001b[1;32m    172\u001b[0m \u001b[38;5;66;03m# calls in the traceback and some print out the last line\u001b[39;00m\n\u001b[0;32m--> 173\u001b[0m \u001b[43mVariable\u001b[49m\u001b[38;5;241;43m.\u001b[39;49m\u001b[43m_execution_engine\u001b[49m\u001b[38;5;241;43m.\u001b[39;49m\u001b[43mrun_backward\u001b[49m\u001b[43m(\u001b[49m\u001b[43m  \u001b[49m\u001b[38;5;66;43;03m# Calls into the C++ engine to run the backward pass\u001b[39;49;00m\n\u001b[1;32m    174\u001b[0m \u001b[43m    \u001b[49m\u001b[43mtensors\u001b[49m\u001b[43m,\u001b[49m\u001b[43m \u001b[49m\u001b[43mgrad_tensors_\u001b[49m\u001b[43m,\u001b[49m\u001b[43m \u001b[49m\u001b[43mretain_graph\u001b[49m\u001b[43m,\u001b[49m\u001b[43m \u001b[49m\u001b[43mcreate_graph\u001b[49m\u001b[43m,\u001b[49m\u001b[43m \u001b[49m\u001b[43minputs\u001b[49m\u001b[43m,\u001b[49m\n\u001b[1;32m    175\u001b[0m \u001b[43m    \u001b[49m\u001b[43mallow_unreachable\u001b[49m\u001b[38;5;241;43m=\u001b[39;49m\u001b[38;5;28;43;01mTrue\u001b[39;49;00m\u001b[43m,\u001b[49m\u001b[43m \u001b[49m\u001b[43maccumulate_grad\u001b[49m\u001b[38;5;241;43m=\u001b[39;49m\u001b[38;5;28;43;01mTrue\u001b[39;49;00m\u001b[43m)\u001b[49m\n",
      "\u001b[0;31mKeyboardInterrupt\u001b[0m: "
     ]
    }
   ],
   "source": [
    "for epoch in range(epochs):\n",
    "    train_loss = train(model, train_dataloader, criterion, optimizer, scheduler, warmup_steps, learning_rate, epoch)\n",
    "    metrics = test(model, test_dataloader, criterion)\n",
    "    wandb.log(metrics)"
   ]
  },
  {
   "cell_type": "code",
   "execution_count": null,
   "id": "1e4b6e5f",
   "metadata": {},
   "outputs": [],
   "source": []
  },
  {
   "cell_type": "code",
   "execution_count": null,
   "id": "c154b8b3",
   "metadata": {},
   "outputs": [],
   "source": []
  },
  {
   "cell_type": "markdown",
   "id": "30a65181",
   "metadata": {},
   "source": [
    "## Экспорт обученной нейросети в формат ONNX\n"
   ]
  },
  {
   "cell_type": "code",
   "execution_count": 16,
   "id": "4ebd6952",
   "metadata": {},
   "outputs": [
    {
     "name": "stderr",
     "output_type": "stream",
     "text": [
      "/opt/conda/lib/python3.8/site-packages/torch/nn/modules/module.py:1402: UserWarning: positional arguments and argument \"destination\" are deprecated. nn.Module.state_dict will not accept them in the future. Refer to https://pytorch.org/docs/master/generated/torch.nn.Module.html#torch.nn.Module.state_dict for details.\n",
      "  warnings.warn(\n"
     ]
    }
   ],
   "source": [
    "out_file = \"bert-tiny.onnx\"\n",
    "tokenizer_path = \"cointegrated/rubert-tiny2\"\n",
    "tokenizer = AutoTokenizer.from_pretrained(tokenizer_path,)\n",
    "\n",
    "export_model = model.bert.cpu()\n",
    "dummy_model_input = tokenizer(\"Это пример\", return_tensors=\"pt\", padding='max_length', max_length=2048)\n",
    "\n",
    "# Экспортируем в формат ONNX\n",
    "torch.onnx.export(\n",
    "    model, \n",
    "    tuple(dummy_model_input.values()),\n",
    "    f=out_file,  \n",
    "    input_names=['input_ids', 'attention_mask'], \n",
    "    output_names=['logits'], \n",
    "    do_constant_folding=True, \n",
    "    opset_version=13, \n",
    ")"
   ]
  },
  {
   "cell_type": "code",
   "execution_count": 17,
   "id": "9e83a75a",
   "metadata": {},
   "outputs": [
    {
     "data": {
      "text/plain": [
       "('bert_tokenizer/tokenizer_config.json',\n",
       " 'bert_tokenizer/special_tokens_map.json',\n",
       " 'bert_tokenizer/vocab.txt',\n",
       " 'bert_tokenizer/added_tokens.json',\n",
       " 'bert_tokenizer/tokenizer.json')"
      ]
     },
     "execution_count": 17,
     "metadata": {},
     "output_type": "execute_result"
    }
   ],
   "source": [
    "# Сохраняем токенизатор для последующего использования\n",
    "tokenizer.save_pretrained('bert_tokenizer')"
   ]
  },
  {
   "cell_type": "code",
   "execution_count": 24,
   "id": "f880b911",
   "metadata": {},
   "outputs": [],
   "source": [
    "# Сохраняем набор меток\n",
    "import json\n",
    "class_id2name = {name2class_id[name]:name for name in name2class_id}\n",
    "with open('labels.json', 'w', encoding='utf-8') as file:\n",
    "    json.dump(class_id2name, file,  ensure_ascii=False)"
   ]
  },
  {
   "cell_type": "code",
   "execution_count": null,
   "id": "9ec8cd4a",
   "metadata": {},
   "outputs": [],
   "source": []
  }
 ],
 "metadata": {
  "kernelspec": {
   "display_name": "Python 3 (ipykernel)",
   "language": "python",
   "name": "python3"
  },
  "language_info": {
   "codemirror_mode": {
    "name": "ipython",
    "version": 3
   },
   "file_extension": ".py",
   "mimetype": "text/x-python",
   "name": "python",
   "nbconvert_exporter": "python",
   "pygments_lexer": "ipython3",
   "version": "3.8.13"
  }
 },
 "nbformat": 4,
 "nbformat_minor": 5
}
